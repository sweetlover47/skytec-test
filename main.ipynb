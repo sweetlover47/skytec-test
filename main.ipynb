{
 "cells": [
  {
   "cell_type": "code",
   "execution_count": 33,
   "metadata": {
    "collapsed": true,
    "pycharm": {
     "is_executing": false
    }
   },
   "outputs": [],
   "source": [
    "import pandas as pd\n",
    "import numpy as np\n",
    "import scipy.stats as st\n",
    "import warnings\n",
    "warnings.filterwarnings('ignore')\n",
    "filename = r'table.xls'"
   ]
  },
  {
   "cell_type": "code",
   "execution_count": 34,
   "outputs": [
    {
     "data": {
      "text/plain": "        date  installs  costs  revenue  payers share\n0 2021-05-01         5    150      314             5\n1 2021-04-24        15     33      159            10\n2 2020-12-24         7    421      512            12\n3 2020-12-21         3    127       13             7",
      "text/html": "<div>\n<style scoped>\n    .dataframe tbody tr th:only-of-type {\n        vertical-align: middle;\n    }\n\n    .dataframe tbody tr th {\n        vertical-align: top;\n    }\n\n    .dataframe thead th {\n        text-align: right;\n    }\n</style>\n<table border=\"1\" class=\"dataframe\">\n  <thead>\n    <tr style=\"text-align: right;\">\n      <th></th>\n      <th>date</th>\n      <th>installs</th>\n      <th>costs</th>\n      <th>revenue</th>\n      <th>payers share</th>\n    </tr>\n  </thead>\n  <tbody>\n    <tr>\n      <th>0</th>\n      <td>2021-05-01</td>\n      <td>5</td>\n      <td>150</td>\n      <td>314</td>\n      <td>5</td>\n    </tr>\n    <tr>\n      <th>1</th>\n      <td>2021-04-24</td>\n      <td>15</td>\n      <td>33</td>\n      <td>159</td>\n      <td>10</td>\n    </tr>\n    <tr>\n      <th>2</th>\n      <td>2020-12-24</td>\n      <td>7</td>\n      <td>421</td>\n      <td>512</td>\n      <td>12</td>\n    </tr>\n    <tr>\n      <th>3</th>\n      <td>2020-12-21</td>\n      <td>3</td>\n      <td>127</td>\n      <td>13</td>\n      <td>7</td>\n    </tr>\n  </tbody>\n</table>\n</div>"
     },
     "metadata": {},
     "output_type": "execute_result",
     "execution_count": 34
    }
   ],
   "source": [
    "# Чтение файла формата xls\n",
    "sheet_number = 0\n",
    "xls_frame = pd.ExcelFile(filename).parse(sheet_number)\n",
    "# Преобразование столбца date из строки в datetime\n",
    "xls_frame['date'] = pd.to_datetime(xls_frame['date'], format='%Y-%m-%d')\n",
    "xls_frame"
   ],
   "metadata": {
    "collapsed": false,
    "pycharm": {
     "name": "#%%\n",
     "is_executing": false
    }
   }
  },
  {
   "cell_type": "code",
   "execution_count": 35,
   "outputs": [
    {
     "data": {
      "text/plain": "        date installs                                   costs              \\\n                 mean       std  var   med   q25   q75   mean         std   \n0 2020-12-27      5.0  2.828427  0.4   5.0   4.0   6.0  274.0  207.889394   \n1 2021-04-25     15.0       NaN  0.0  15.0  15.0  15.0   33.0         NaN   \n2 2021-05-02      5.0       NaN  0.0   5.0   5.0   5.0  150.0         NaN   \n\n             ...   revenue                        payers share            \\\n        var  ...       var    med     q25     q75         mean       std   \n0  0.536496  ...  0.950476  262.5  137.75  387.25          9.5  3.535534   \n1  0.000000  ...  0.000000  159.0  159.00  159.00         10.0       NaN   \n2  0.000000  ...  0.000000  314.0  314.00  314.00          5.0       NaN   \n\n                                 \n        var   med    q25    q75  \n0  0.263158   9.5   8.25  10.75  \n1  0.000000  10.0  10.00  10.00  \n2  0.000000   5.0   5.00   5.00  \n\n[3 rows x 25 columns]",
      "text/html": "<div>\n<style scoped>\n    .dataframe tbody tr th:only-of-type {\n        vertical-align: middle;\n    }\n\n    .dataframe tbody tr th {\n        vertical-align: top;\n    }\n\n    .dataframe thead tr th {\n        text-align: left;\n    }\n</style>\n<table border=\"1\" class=\"dataframe\">\n  <thead>\n    <tr>\n      <th></th>\n      <th>date</th>\n      <th colspan=\"6\" halign=\"left\">installs</th>\n      <th colspan=\"3\" halign=\"left\">costs</th>\n      <th>...</th>\n      <th colspan=\"4\" halign=\"left\">revenue</th>\n      <th colspan=\"6\" halign=\"left\">payers share</th>\n    </tr>\n    <tr>\n      <th></th>\n      <th></th>\n      <th>mean</th>\n      <th>std</th>\n      <th>var</th>\n      <th>med</th>\n      <th>q25</th>\n      <th>q75</th>\n      <th>mean</th>\n      <th>std</th>\n      <th>var</th>\n      <th>...</th>\n      <th>var</th>\n      <th>med</th>\n      <th>q25</th>\n      <th>q75</th>\n      <th>mean</th>\n      <th>std</th>\n      <th>var</th>\n      <th>med</th>\n      <th>q25</th>\n      <th>q75</th>\n    </tr>\n  </thead>\n  <tbody>\n    <tr>\n      <th>0</th>\n      <td>2020-12-27</td>\n      <td>5.0</td>\n      <td>2.828427</td>\n      <td>0.4</td>\n      <td>5.0</td>\n      <td>4.0</td>\n      <td>6.0</td>\n      <td>274.0</td>\n      <td>207.889394</td>\n      <td>0.536496</td>\n      <td>...</td>\n      <td>0.950476</td>\n      <td>262.5</td>\n      <td>137.75</td>\n      <td>387.25</td>\n      <td>9.5</td>\n      <td>3.535534</td>\n      <td>0.263158</td>\n      <td>9.5</td>\n      <td>8.25</td>\n      <td>10.75</td>\n    </tr>\n    <tr>\n      <th>1</th>\n      <td>2021-04-25</td>\n      <td>15.0</td>\n      <td>NaN</td>\n      <td>0.0</td>\n      <td>15.0</td>\n      <td>15.0</td>\n      <td>15.0</td>\n      <td>33.0</td>\n      <td>NaN</td>\n      <td>0.000000</td>\n      <td>...</td>\n      <td>0.000000</td>\n      <td>159.0</td>\n      <td>159.00</td>\n      <td>159.00</td>\n      <td>10.0</td>\n      <td>NaN</td>\n      <td>0.000000</td>\n      <td>10.0</td>\n      <td>10.00</td>\n      <td>10.00</td>\n    </tr>\n    <tr>\n      <th>2</th>\n      <td>2021-05-02</td>\n      <td>5.0</td>\n      <td>NaN</td>\n      <td>0.0</td>\n      <td>5.0</td>\n      <td>5.0</td>\n      <td>5.0</td>\n      <td>150.0</td>\n      <td>NaN</td>\n      <td>0.000000</td>\n      <td>...</td>\n      <td>0.000000</td>\n      <td>314.0</td>\n      <td>314.00</td>\n      <td>314.00</td>\n      <td>5.0</td>\n      <td>NaN</td>\n      <td>0.000000</td>\n      <td>5.0</td>\n      <td>5.00</td>\n      <td>5.00</td>\n    </tr>\n  </tbody>\n</table>\n<p>3 rows × 25 columns</p>\n</div>"
     },
     "metadata": {},
     "output_type": "execute_result",
     "execution_count": 35
    }
   ],
   "source": [
    "# Для каждой колонки применяем необходимые функции\n",
    "funcs = [\n",
    "         pd.NamedAgg(column='mean', aggfunc=np.mean),\n",
    "         pd.NamedAgg(column='std', aggfunc=np.std),\n",
    "         pd.NamedAgg(column='var', aggfunc=st.variation),\n",
    "         pd.NamedAgg(column='med', aggfunc=np.median),\n",
    "         pd.NamedAgg(column='q25', aggfunc=lambda x: np.percentile(x, 25)),\n",
    "         pd.NamedAgg(column='q75', aggfunc=lambda x: np.percentile(x, 75)),\n",
    "         ]\n",
    "grouper = [pd.Grouper(key='date', freq='w')]\n",
    "grouped_df = xls_frame.groupby(grouper).agg(funcs)\n",
    "grouped_df = grouped_df.loc[(~np.isnan(grouped_df.loc[:, pd.IndexSlice[:, 'mean']])).any(axis=1)].reset_index()\n",
    "grouped_df"
   ],
   "metadata": {
    "collapsed": false,
    "pycharm": {
     "name": "#%%\n",
     "is_executing": false
    }
   }
  },
  {
   "cell_type": "code",
   "execution_count": 36,
   "outputs": [
    {
     "data": {
      "text/plain": "        date installs                                   costs              \\\n                 mean       std  var   med   q25   q75   mean         std   \n0 2020-12-27      5.0  2.828427  0.4   5.0   4.0   6.0  274.0  207.889394   \n1 2021-04-25     15.0       NaN  0.0  15.0  15.0  15.0   33.0         NaN   \n2 2021-05-02      5.0       NaN  0.0   5.0   5.0   5.0  150.0         NaN   \n\n             ... revenue                 payers share                      \\\n        var  ...     med     q25     q75         mean       std       var   \n0  0.536496  ...   262.5  137.75  387.25          9.5  3.535534  0.263158   \n1  0.000000  ...   159.0  159.00  159.00         10.0       NaN  0.000000   \n2  0.000000  ...   314.0  314.00  314.00          5.0       NaN  0.000000   \n\n                         r  \n    med    q25    q75       \n0   9.5   8.25  10.75  1.0  \n1  10.0  10.00  10.00  NaN  \n2   5.0   5.00   5.00  NaN  \n\n[3 rows x 26 columns]",
      "text/html": "<div>\n<style scoped>\n    .dataframe tbody tr th:only-of-type {\n        vertical-align: middle;\n    }\n\n    .dataframe tbody tr th {\n        vertical-align: top;\n    }\n\n    .dataframe thead tr th {\n        text-align: left;\n    }\n</style>\n<table border=\"1\" class=\"dataframe\">\n  <thead>\n    <tr>\n      <th></th>\n      <th>date</th>\n      <th colspan=\"6\" halign=\"left\">installs</th>\n      <th colspan=\"3\" halign=\"left\">costs</th>\n      <th>...</th>\n      <th colspan=\"3\" halign=\"left\">revenue</th>\n      <th colspan=\"6\" halign=\"left\">payers share</th>\n      <th>r</th>\n    </tr>\n    <tr>\n      <th></th>\n      <th></th>\n      <th>mean</th>\n      <th>std</th>\n      <th>var</th>\n      <th>med</th>\n      <th>q25</th>\n      <th>q75</th>\n      <th>mean</th>\n      <th>std</th>\n      <th>var</th>\n      <th>...</th>\n      <th>med</th>\n      <th>q25</th>\n      <th>q75</th>\n      <th>mean</th>\n      <th>std</th>\n      <th>var</th>\n      <th>med</th>\n      <th>q25</th>\n      <th>q75</th>\n      <th></th>\n    </tr>\n  </thead>\n  <tbody>\n    <tr>\n      <th>0</th>\n      <td>2020-12-27</td>\n      <td>5.0</td>\n      <td>2.828427</td>\n      <td>0.4</td>\n      <td>5.0</td>\n      <td>4.0</td>\n      <td>6.0</td>\n      <td>274.0</td>\n      <td>207.889394</td>\n      <td>0.536496</td>\n      <td>...</td>\n      <td>262.5</td>\n      <td>137.75</td>\n      <td>387.25</td>\n      <td>9.5</td>\n      <td>3.535534</td>\n      <td>0.263158</td>\n      <td>9.5</td>\n      <td>8.25</td>\n      <td>10.75</td>\n      <td>1.0</td>\n    </tr>\n    <tr>\n      <th>1</th>\n      <td>2021-04-25</td>\n      <td>15.0</td>\n      <td>NaN</td>\n      <td>0.0</td>\n      <td>15.0</td>\n      <td>15.0</td>\n      <td>15.0</td>\n      <td>33.0</td>\n      <td>NaN</td>\n      <td>0.000000</td>\n      <td>...</td>\n      <td>159.0</td>\n      <td>159.00</td>\n      <td>159.00</td>\n      <td>10.0</td>\n      <td>NaN</td>\n      <td>0.000000</td>\n      <td>10.0</td>\n      <td>10.00</td>\n      <td>10.00</td>\n      <td>NaN</td>\n    </tr>\n    <tr>\n      <th>2</th>\n      <td>2021-05-02</td>\n      <td>5.0</td>\n      <td>NaN</td>\n      <td>0.0</td>\n      <td>5.0</td>\n      <td>5.0</td>\n      <td>5.0</td>\n      <td>150.0</td>\n      <td>NaN</td>\n      <td>0.000000</td>\n      <td>...</td>\n      <td>314.0</td>\n      <td>314.00</td>\n      <td>314.00</td>\n      <td>5.0</td>\n      <td>NaN</td>\n      <td>0.000000</td>\n      <td>5.0</td>\n      <td>5.00</td>\n      <td>5.00</td>\n      <td>NaN</td>\n    </tr>\n  </tbody>\n</table>\n<p>3 rows × 26 columns</p>\n</div>"
     },
     "metadata": {},
     "output_type": "execute_result",
     "execution_count": 36
    }
   ],
   "source": [
    "# нахождение корреляции по группам, сформированным по недельным промежуткам\n",
    "corr_func = lambda a: np.corrcoef(a['installs'], a['revenue']-a['costs'])[0, 1]\n",
    "corr_df = pd.DataFrame(xls_frame)\n",
    "# сперва находим корреляцию к группах и записываем в новую колонку r, затем группируем по дате, оставляя последнее значение группы \n",
    "corr_df = corr_df.groupby(grouper).apply(lambda b: b.assign(r=corr_func(b))).groupby(grouper).last()\n",
    "corr_df = corr_df.loc[(~np.isnan(corr_df)).any(axis=1), :].reset_index()\n",
    "grouped_df['r'] = corr_df['r']\n",
    "grouped_df"
   ],
   "metadata": {
    "collapsed": false,
    "pycharm": {
     "name": "#%%\n",
     "is_executing": false
    }
   }
  },
  {
   "cell_type": "code",
   "execution_count": 37,
   "outputs": [],
   "source": [
    "with pd.ExcelWriter('out_table.xls', mode='w') as writer:\n",
    "    grouped_df.to_excel(writer, sheet_name='Sheet 1')"
   ],
   "metadata": {
    "collapsed": false,
    "pycharm": {
     "name": "#%%\n",
     "is_executing": false
    }
   }
  }
 ],
 "metadata": {
  "kernelspec": {
   "name": "python3",
   "language": "python",
   "display_name": "Python 3"
  },
  "language_info": {
   "codemirror_mode": {
    "name": "ipython",
    "version": 2
   },
   "file_extension": ".py",
   "mimetype": "text/x-python",
   "name": "python",
   "nbconvert_exporter": "python",
   "pygments_lexer": "ipython2",
   "version": "2.7.6"
  },
  "pycharm": {
   "stem_cell": {
    "cell_type": "raw",
    "source": [],
    "metadata": {
     "collapsed": false
    }
   }
  }
 },
 "nbformat": 4,
 "nbformat_minor": 0
}