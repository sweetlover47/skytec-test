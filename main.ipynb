{
 "cells": [
  {
   "cell_type": "code",
   "execution_count": 739,
   "metadata": {
    "collapsed": true,
    "pycharm": {
     "is_executing": false
    }
   },
   "outputs": [],
   "source": [
    "import pandas as pd\n",
    "filename = r'D:\\Programms\\python programms\\SkyTec_test\\in.xls'"
   ]
  },
  {
   "cell_type": "code",
   "execution_count": 740,
   "outputs": [
    {
     "data": {
      "text/plain": "         date  installs  costs  revenue  payers share\n0  2021-05-01         5    150      314             5\n1  2021-04-24        15     33      159            10\n2  2020-12-24         7    421      512            12\n3  2020-12-21         3    127       13             7",
      "text/html": "<div>\n<style scoped>\n    .dataframe tbody tr th:only-of-type {\n        vertical-align: middle;\n    }\n\n    .dataframe tbody tr th {\n        vertical-align: top;\n    }\n\n    .dataframe thead th {\n        text-align: right;\n    }\n</style>\n<table border=\"1\" class=\"dataframe\">\n  <thead>\n    <tr style=\"text-align: right;\">\n      <th></th>\n      <th>date</th>\n      <th>installs</th>\n      <th>costs</th>\n      <th>revenue</th>\n      <th>payers share</th>\n    </tr>\n  </thead>\n  <tbody>\n    <tr>\n      <th>0</th>\n      <td>2021-05-01</td>\n      <td>5</td>\n      <td>150</td>\n      <td>314</td>\n      <td>5</td>\n    </tr>\n    <tr>\n      <th>1</th>\n      <td>2021-04-24</td>\n      <td>15</td>\n      <td>33</td>\n      <td>159</td>\n      <td>10</td>\n    </tr>\n    <tr>\n      <th>2</th>\n      <td>2020-12-24</td>\n      <td>7</td>\n      <td>421</td>\n      <td>512</td>\n      <td>12</td>\n    </tr>\n    <tr>\n      <th>3</th>\n      <td>2020-12-21</td>\n      <td>3</td>\n      <td>127</td>\n      <td>13</td>\n      <td>7</td>\n    </tr>\n  </tbody>\n</table>\n</div>"
     },
     "metadata": {},
     "output_type": "execute_result",
     "execution_count": 740
    }
   ],
   "source": [
    "xls_frame = pd.ExcelFile(filename).parse(0)\n",
    "column_names = list(xls_frame.columns)\n",
    "xls_frame"
   ],
   "metadata": {
    "collapsed": false,
    "pycharm": {
     "name": "#%%\n",
     "is_executing": false
    }
   }
  },
  {
   "cell_type": "code",
   "execution_count": 741,
   "outputs": [
    {
     "data": {
      "text/plain": "        date  installs  costs  revenue  payers share\n0 2020-12-27        10    548      525            19\n1 2021-04-25        15     33      159            10\n2 2021-05-02         5    150      314             5",
      "text/html": "<div>\n<style scoped>\n    .dataframe tbody tr th:only-of-type {\n        vertical-align: middle;\n    }\n\n    .dataframe tbody tr th {\n        vertical-align: top;\n    }\n\n    .dataframe thead th {\n        text-align: right;\n    }\n</style>\n<table border=\"1\" class=\"dataframe\">\n  <thead>\n    <tr style=\"text-align: right;\">\n      <th></th>\n      <th>date</th>\n      <th>installs</th>\n      <th>costs</th>\n      <th>revenue</th>\n      <th>payers share</th>\n    </tr>\n  </thead>\n  <tbody>\n    <tr>\n      <th>0</th>\n      <td>2020-12-27</td>\n      <td>10</td>\n      <td>548</td>\n      <td>525</td>\n      <td>19</td>\n    </tr>\n    <tr>\n      <th>1</th>\n      <td>2021-04-25</td>\n      <td>15</td>\n      <td>33</td>\n      <td>159</td>\n      <td>10</td>\n    </tr>\n    <tr>\n      <th>2</th>\n      <td>2021-05-02</td>\n      <td>5</td>\n      <td>150</td>\n      <td>314</td>\n      <td>5</td>\n    </tr>\n  </tbody>\n</table>\n</div>"
     },
     "metadata": {},
     "output_type": "execute_result",
     "execution_count": 741
    }
   ],
   "source": [
    "xls_frame['date'] = pd.to_datetime(xls_frame['date'], format='%Y-%m-%d')\n",
    "grouped_frame = xls_frame.groupby([pd.Grouper(key='date', freq='w')])[column_names[1:]].sum()\n",
    "grouped_frame = grouped_frame.loc[(grouped_frame != 0).all(axis=1), :].reset_index()\n",
    "grouped_frame\n"
   ],
   "metadata": {
    "collapsed": false,
    "pycharm": {
     "name": "#%%\n",
     "is_executing": false
    }
   }
  },
  {
   "cell_type": "code",
   "execution_count": 743,
   "outputs": [
    {
     "data": {
      "text/plain": "           installs                           costs                     \\\n                sum  mean       std variation   sum   mean         std   \ndate                                                                     \n2020-12-27       10   5.0  2.828427       0.4   548  274.0  207.889394   \n2021-04-25       15  15.0       NaN       0.0    33   33.0         NaN   \n2021-05-02        5   5.0       NaN       0.0   150  150.0         NaN   \n\n                     revenue                              payers share        \\\n           variation     sum   mean         std variation          sum  mean   \ndate                                                                           \n2020-12-27  0.536496     525  262.5  352.846284  0.950476           19   9.5   \n2021-04-25  0.000000     159  159.0         NaN  0.000000           10  10.0   \n2021-05-02  0.000000     314  314.0         NaN  0.000000            5   5.0   \n\n                                \n                 std variation  \ndate                            \n2020-12-27  3.535534  0.263158  \n2021-04-25       NaN  0.000000  \n2021-05-02       NaN  0.000000  ",
      "text/html": "<div>\n<style scoped>\n    .dataframe tbody tr th:only-of-type {\n        vertical-align: middle;\n    }\n\n    .dataframe tbody tr th {\n        vertical-align: top;\n    }\n\n    .dataframe thead tr th {\n        text-align: left;\n    }\n\n    .dataframe thead tr:last-of-type th {\n        text-align: right;\n    }\n</style>\n<table border=\"1\" class=\"dataframe\">\n  <thead>\n    <tr>\n      <th></th>\n      <th colspan=\"4\" halign=\"left\">installs</th>\n      <th colspan=\"4\" halign=\"left\">costs</th>\n      <th colspan=\"4\" halign=\"left\">revenue</th>\n      <th colspan=\"4\" halign=\"left\">payers share</th>\n    </tr>\n    <tr>\n      <th></th>\n      <th>sum</th>\n      <th>mean</th>\n      <th>std</th>\n      <th>variation</th>\n      <th>sum</th>\n      <th>mean</th>\n      <th>std</th>\n      <th>variation</th>\n      <th>sum</th>\n      <th>mean</th>\n      <th>std</th>\n      <th>variation</th>\n      <th>sum</th>\n      <th>mean</th>\n      <th>std</th>\n      <th>variation</th>\n    </tr>\n    <tr>\n      <th>date</th>\n      <th></th>\n      <th></th>\n      <th></th>\n      <th></th>\n      <th></th>\n      <th></th>\n      <th></th>\n      <th></th>\n      <th></th>\n      <th></th>\n      <th></th>\n      <th></th>\n      <th></th>\n      <th></th>\n      <th></th>\n      <th></th>\n    </tr>\n  </thead>\n  <tbody>\n    <tr>\n      <th>2020-12-27</th>\n      <td>10</td>\n      <td>5.0</td>\n      <td>2.828427</td>\n      <td>0.4</td>\n      <td>548</td>\n      <td>274.0</td>\n      <td>207.889394</td>\n      <td>0.536496</td>\n      <td>525</td>\n      <td>262.5</td>\n      <td>352.846284</td>\n      <td>0.950476</td>\n      <td>19</td>\n      <td>9.5</td>\n      <td>3.535534</td>\n      <td>0.263158</td>\n    </tr>\n    <tr>\n      <th>2021-04-25</th>\n      <td>15</td>\n      <td>15.0</td>\n      <td>NaN</td>\n      <td>0.0</td>\n      <td>33</td>\n      <td>33.0</td>\n      <td>NaN</td>\n      <td>0.000000</td>\n      <td>159</td>\n      <td>159.0</td>\n      <td>NaN</td>\n      <td>0.000000</td>\n      <td>10</td>\n      <td>10.0</td>\n      <td>NaN</td>\n      <td>0.000000</td>\n    </tr>\n    <tr>\n      <th>2021-05-02</th>\n      <td>5</td>\n      <td>5.0</td>\n      <td>NaN</td>\n      <td>0.0</td>\n      <td>150</td>\n      <td>150.0</td>\n      <td>NaN</td>\n      <td>0.000000</td>\n      <td>314</td>\n      <td>314.0</td>\n      <td>NaN</td>\n      <td>0.000000</td>\n      <td>5</td>\n      <td>5.0</td>\n      <td>NaN</td>\n      <td>0.000000</td>\n    </tr>\n  </tbody>\n</table>\n</div>"
     },
     "metadata": {},
     "output_type": "execute_result",
     "execution_count": 743
    }
   ],
   "source": [
    "import numpy as np\n",
    "import scipy.stats as st\n",
    "x = xls_frame.groupby([pd.Grouper(key='date', freq='w')]).agg([np.sum, np.mean, np.std, st.variation])\n",
    "x.loc[(x.loc[:, pd.IndexSlice[:, 'sum']] != 0).any(axis=1)]"
   ],
   "metadata": {
    "collapsed": false,
    "pycharm": {
     "name": "#%%\n",
     "is_executing": false
    }
   }
  }
 ],
 "metadata": {
  "kernelspec": {
   "display_name": "Python 3",
   "language": "python",
   "name": "python3"
  },
  "language_info": {
   "codemirror_mode": {
    "name": "ipython",
    "version": 2
   },
   "file_extension": ".py",
   "mimetype": "text/x-python",
   "name": "python",
   "nbconvert_exporter": "python",
   "pygments_lexer": "ipython2",
   "version": "2.7.6"
  },
  "pycharm": {
   "stem_cell": {
    "cell_type": "raw",
    "source": [],
    "metadata": {
     "collapsed": false
    }
   }
  }
 },
 "nbformat": 4,
 "nbformat_minor": 0
}