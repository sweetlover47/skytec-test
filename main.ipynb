{
 "cells": [
  {
   "cell_type": "code",
   "execution_count": 937,
   "metadata": {
    "collapsed": true,
    "pycharm": {
     "is_executing": false
    }
   },
   "outputs": [
    {
     "name": "stderr",
     "text": [
      "usage: ipykernel_launcher.py [-h] file\nipykernel_launcher.py: error: unrecognized arguments: -f\n",
      "C:\\Users\\User\\.conda\\envs\\SkyTec_test\\lib\\site-packages\\IPython\\core\\interactiveshell.py:3445: UserWarning: To exit: use 'exit', 'quit', or Ctrl-D.\n  warn(\"To exit: use 'exit', 'quit', or Ctrl-D.\", stacklevel=1)\n"
     ],
     "output_type": "stream"
    },
    {
     "traceback": [
      "An exception has occurred, use %tb to see the full traceback.\n",
      "\u001b[1;31mSystemExit\u001b[0m\u001b[1;31m:\u001b[0m 2\n"
     ],
     "ename": "SystemExit",
     "evalue": "2",
     "output_type": "error"
    }
   ],
   "source": [
    "import pandas as pd\n",
    "import numpy as np\n",
    "import scipy.stats as st\n",
    "filename = r'table.xls'\n"
   ]
  },
  {
   "cell_type": "code",
   "execution_count": 934,
   "outputs": [
    {
     "data": {
      "text/plain": "        date  installs  costs  revenue  payers share\n0 2021-05-01         5    150      314             5\n1 2021-04-24        15     33      159            10\n2 2020-12-24         7    421      512            12\n3 2020-12-21         3    127       13             7",
      "text/html": "<div>\n<style scoped>\n    .dataframe tbody tr th:only-of-type {\n        vertical-align: middle;\n    }\n\n    .dataframe tbody tr th {\n        vertical-align: top;\n    }\n\n    .dataframe thead th {\n        text-align: right;\n    }\n</style>\n<table border=\"1\" class=\"dataframe\">\n  <thead>\n    <tr style=\"text-align: right;\">\n      <th></th>\n      <th>date</th>\n      <th>installs</th>\n      <th>costs</th>\n      <th>revenue</th>\n      <th>payers share</th>\n    </tr>\n  </thead>\n  <tbody>\n    <tr>\n      <th>0</th>\n      <td>2021-05-01</td>\n      <td>5</td>\n      <td>150</td>\n      <td>314</td>\n      <td>5</td>\n    </tr>\n    <tr>\n      <th>1</th>\n      <td>2021-04-24</td>\n      <td>15</td>\n      <td>33</td>\n      <td>159</td>\n      <td>10</td>\n    </tr>\n    <tr>\n      <th>2</th>\n      <td>2020-12-24</td>\n      <td>7</td>\n      <td>421</td>\n      <td>512</td>\n      <td>12</td>\n    </tr>\n    <tr>\n      <th>3</th>\n      <td>2020-12-21</td>\n      <td>3</td>\n      <td>127</td>\n      <td>13</td>\n      <td>7</td>\n    </tr>\n  </tbody>\n</table>\n</div>"
     },
     "metadata": {},
     "output_type": "execute_result",
     "execution_count": 934
    }
   ],
   "source": [
    "# Чтение файла формата xls\n",
    "xls_frame = pd.ExcelFile(filename).parse(0)\n",
    "column_names = list(xls_frame.columns)\n",
    "# Преобразование столбца date из строки в datetime\n",
    "xls_frame['date'] = pd.to_datetime(xls_frame['date'], format='%Y-%m-%d')\n",
    "xls_frame"
   ],
   "metadata": {
    "collapsed": false,
    "pycharm": {
     "name": "#%%\n",
     "is_executing": false
    }
   }
  },
  {
   "cell_type": "code",
   "execution_count": 935,
   "outputs": [
    {
     "data": {
      "text/plain": "        date installs                                        costs         \\\n                  sum  mean       std  var   med   q25   q75   sum   mean   \n0 2020-12-27       10   5.0  2.828427  0.4   5.0   4.0   6.0   548  274.0   \n1 2021-04-25       15  15.0       NaN  0.0  15.0  15.0  15.0    33   33.0   \n2 2021-05-02        5   5.0       NaN  0.0   5.0   5.0   5.0   150  150.0   \n\n   ... revenue                 payers share                                  \\\n   ...     med     q25     q75          sum  mean       std       var   med   \n0  ...   262.5  137.75  387.25           19   9.5  3.535534  0.263158   9.5   \n1  ...   159.0  159.00  159.00           10  10.0       NaN  0.000000  10.0   \n2  ...   314.0  314.00  314.00            5   5.0       NaN  0.000000   5.0   \n\n                 \n     q25    q75  \n0   8.25  10.75  \n1  10.00  10.00  \n2   5.00   5.00  \n\n[3 rows x 29 columns]",
      "text/html": "<div>\n<style scoped>\n    .dataframe tbody tr th:only-of-type {\n        vertical-align: middle;\n    }\n\n    .dataframe tbody tr th {\n        vertical-align: top;\n    }\n\n    .dataframe thead tr th {\n        text-align: left;\n    }\n</style>\n<table border=\"1\" class=\"dataframe\">\n  <thead>\n    <tr>\n      <th></th>\n      <th>date</th>\n      <th colspan=\"7\" halign=\"left\">installs</th>\n      <th colspan=\"2\" halign=\"left\">costs</th>\n      <th>...</th>\n      <th colspan=\"3\" halign=\"left\">revenue</th>\n      <th colspan=\"7\" halign=\"left\">payers share</th>\n    </tr>\n    <tr>\n      <th></th>\n      <th></th>\n      <th>sum</th>\n      <th>mean</th>\n      <th>std</th>\n      <th>var</th>\n      <th>med</th>\n      <th>q25</th>\n      <th>q75</th>\n      <th>sum</th>\n      <th>mean</th>\n      <th>...</th>\n      <th>med</th>\n      <th>q25</th>\n      <th>q75</th>\n      <th>sum</th>\n      <th>mean</th>\n      <th>std</th>\n      <th>var</th>\n      <th>med</th>\n      <th>q25</th>\n      <th>q75</th>\n    </tr>\n  </thead>\n  <tbody>\n    <tr>\n      <th>0</th>\n      <td>2020-12-27</td>\n      <td>10</td>\n      <td>5.0</td>\n      <td>2.828427</td>\n      <td>0.4</td>\n      <td>5.0</td>\n      <td>4.0</td>\n      <td>6.0</td>\n      <td>548</td>\n      <td>274.0</td>\n      <td>...</td>\n      <td>262.5</td>\n      <td>137.75</td>\n      <td>387.25</td>\n      <td>19</td>\n      <td>9.5</td>\n      <td>3.535534</td>\n      <td>0.263158</td>\n      <td>9.5</td>\n      <td>8.25</td>\n      <td>10.75</td>\n    </tr>\n    <tr>\n      <th>1</th>\n      <td>2021-04-25</td>\n      <td>15</td>\n      <td>15.0</td>\n      <td>NaN</td>\n      <td>0.0</td>\n      <td>15.0</td>\n      <td>15.0</td>\n      <td>15.0</td>\n      <td>33</td>\n      <td>33.0</td>\n      <td>...</td>\n      <td>159.0</td>\n      <td>159.00</td>\n      <td>159.00</td>\n      <td>10</td>\n      <td>10.0</td>\n      <td>NaN</td>\n      <td>0.000000</td>\n      <td>10.0</td>\n      <td>10.00</td>\n      <td>10.00</td>\n    </tr>\n    <tr>\n      <th>2</th>\n      <td>2021-05-02</td>\n      <td>5</td>\n      <td>5.0</td>\n      <td>NaN</td>\n      <td>0.0</td>\n      <td>5.0</td>\n      <td>5.0</td>\n      <td>5.0</td>\n      <td>150</td>\n      <td>150.0</td>\n      <td>...</td>\n      <td>314.0</td>\n      <td>314.00</td>\n      <td>314.00</td>\n      <td>5</td>\n      <td>5.0</td>\n      <td>NaN</td>\n      <td>0.000000</td>\n      <td>5.0</td>\n      <td>5.00</td>\n      <td>5.00</td>\n    </tr>\n  </tbody>\n</table>\n<p>3 rows × 29 columns</p>\n</div>"
     },
     "metadata": {},
     "output_type": "execute_result",
     "execution_count": 935
    }
   ],
   "source": [
    "# Для каждой колонки применяем необходимые функции\n",
    "# Сумма применяется, чтобы была видна понедельная статистика\n",
    "funcs = [pd.NamedAgg(column='sum', aggfunc=np.sum), \n",
    "         pd.NamedAgg(column='mean', aggfunc=np.mean),\n",
    "         pd.NamedAgg(column='std', aggfunc=np.std),\n",
    "         pd.NamedAgg(column='var', aggfunc=st.variation),\n",
    "         pd.NamedAgg(column='med', aggfunc=np.median),\n",
    "         pd.NamedAgg(column='q25', aggfunc=lambda x: np.percentile(x, 25)),\n",
    "         pd.NamedAgg(column='q75', aggfunc=lambda x: np.percentile(x, 75)),\n",
    "         ]\n",
    "x = xls_frame.groupby([pd.Grouper(key='date', freq='w')]).agg(funcs)\n",
    "x = x.loc[(x.loc[:, pd.IndexSlice[:, 'sum']] != 0).any(axis=1)].reset_index()\n",
    "x"
   ],
   "metadata": {
    "collapsed": false,
    "pycharm": {
     "name": "#%%\n",
     "is_executing": false
    }
   }
  },
  {
   "cell_type": "code",
   "execution_count": 936,
   "outputs": [
    {
     "name": "stderr",
     "text": [
      "C:\\Users\\User\\.conda\\envs\\SkyTec_test\\lib\\site-packages\\numpy\\lib\\function_base.py:380: RuntimeWarning: Mean of empty slice.\n  avg = a.mean(axis)\nC:\\Users\\User\\.conda\\envs\\SkyTec_test\\lib\\site-packages\\numpy\\core\\_methods.py:181: RuntimeWarning: invalid value encountered in true_divide\n  ret, rcount, out=ret, casting='unsafe', subok=False)\nC:\\Users\\User\\.conda\\envs\\SkyTec_test\\lib\\site-packages\\numpy\\lib\\function_base.py:2634: RuntimeWarning: Degrees of freedom <= 0 for slice\n  c = cov(x, y, rowvar, dtype=dtype)\nC:\\Users\\User\\.conda\\envs\\SkyTec_test\\lib\\site-packages\\numpy\\lib\\function_base.py:2493: RuntimeWarning: divide by zero encountered in true_divide\n  c *= np.true_divide(1, fact)\nC:\\Users\\User\\.conda\\envs\\SkyTec_test\\lib\\site-packages\\numpy\\lib\\function_base.py:2493: RuntimeWarning: invalid value encountered in multiply\n  c *= np.true_divide(1, fact)\n"
     ],
     "output_type": "stream"
    },
    {
     "data": {
      "text/plain": "        date installs                                        costs         \\\n                  sum  mean       std  var   med   q25   q75   sum   mean   \n0 2020-12-27       10   5.0  2.828427  0.4   5.0   4.0   6.0   548  274.0   \n1 2021-04-25       15  15.0       NaN  0.0  15.0  15.0  15.0    33   33.0   \n2 2021-05-02        5   5.0       NaN  0.0   5.0   5.0   5.0   150  150.0   \n\n   ... revenue         payers share                                         \\\n   ...     q25     q75          sum  mean       std       var   med    q25   \n0  ...  137.75  387.25           19   9.5  3.535534  0.263158   9.5   8.25   \n1  ...  159.00  159.00           10  10.0       NaN  0.000000  10.0  10.00   \n2  ...  314.00  314.00            5   5.0       NaN  0.000000   5.0   5.00   \n\n            r  \n     q75       \n0  10.75  1.0  \n1  10.00  NaN  \n2   5.00  NaN  \n\n[3 rows x 30 columns]",
      "text/html": "<div>\n<style scoped>\n    .dataframe tbody tr th:only-of-type {\n        vertical-align: middle;\n    }\n\n    .dataframe tbody tr th {\n        vertical-align: top;\n    }\n\n    .dataframe thead tr th {\n        text-align: left;\n    }\n</style>\n<table border=\"1\" class=\"dataframe\">\n  <thead>\n    <tr>\n      <th></th>\n      <th>date</th>\n      <th colspan=\"7\" halign=\"left\">installs</th>\n      <th colspan=\"2\" halign=\"left\">costs</th>\n      <th>...</th>\n      <th colspan=\"2\" halign=\"left\">revenue</th>\n      <th colspan=\"7\" halign=\"left\">payers share</th>\n      <th>r</th>\n    </tr>\n    <tr>\n      <th></th>\n      <th></th>\n      <th>sum</th>\n      <th>mean</th>\n      <th>std</th>\n      <th>var</th>\n      <th>med</th>\n      <th>q25</th>\n      <th>q75</th>\n      <th>sum</th>\n      <th>mean</th>\n      <th>...</th>\n      <th>q25</th>\n      <th>q75</th>\n      <th>sum</th>\n      <th>mean</th>\n      <th>std</th>\n      <th>var</th>\n      <th>med</th>\n      <th>q25</th>\n      <th>q75</th>\n      <th></th>\n    </tr>\n  </thead>\n  <tbody>\n    <tr>\n      <th>0</th>\n      <td>2020-12-27</td>\n      <td>10</td>\n      <td>5.0</td>\n      <td>2.828427</td>\n      <td>0.4</td>\n      <td>5.0</td>\n      <td>4.0</td>\n      <td>6.0</td>\n      <td>548</td>\n      <td>274.0</td>\n      <td>...</td>\n      <td>137.75</td>\n      <td>387.25</td>\n      <td>19</td>\n      <td>9.5</td>\n      <td>3.535534</td>\n      <td>0.263158</td>\n      <td>9.5</td>\n      <td>8.25</td>\n      <td>10.75</td>\n      <td>1.0</td>\n    </tr>\n    <tr>\n      <th>1</th>\n      <td>2021-04-25</td>\n      <td>15</td>\n      <td>15.0</td>\n      <td>NaN</td>\n      <td>0.0</td>\n      <td>15.0</td>\n      <td>15.0</td>\n      <td>15.0</td>\n      <td>33</td>\n      <td>33.0</td>\n      <td>...</td>\n      <td>159.00</td>\n      <td>159.00</td>\n      <td>10</td>\n      <td>10.0</td>\n      <td>NaN</td>\n      <td>0.000000</td>\n      <td>10.0</td>\n      <td>10.00</td>\n      <td>10.00</td>\n      <td>NaN</td>\n    </tr>\n    <tr>\n      <th>2</th>\n      <td>2021-05-02</td>\n      <td>5</td>\n      <td>5.0</td>\n      <td>NaN</td>\n      <td>0.0</td>\n      <td>5.0</td>\n      <td>5.0</td>\n      <td>5.0</td>\n      <td>150</td>\n      <td>150.0</td>\n      <td>...</td>\n      <td>314.00</td>\n      <td>314.00</td>\n      <td>5</td>\n      <td>5.0</td>\n      <td>NaN</td>\n      <td>0.000000</td>\n      <td>5.0</td>\n      <td>5.00</td>\n      <td>5.00</td>\n      <td>NaN</td>\n    </tr>\n  </tbody>\n</table>\n<p>3 rows × 30 columns</p>\n</div>"
     },
     "metadata": {},
     "output_type": "execute_result",
     "execution_count": 936
    }
   ],
   "source": [
    "# нахождение корреляции по группам, сформированным по недельным промежуткам\n",
    "corr = lambda a: np.corrcoef(a['installs'], a['revenue']-a['costs'])[0, 1]\n",
    "rdf = pd.DataFrame(xls_frame)\n",
    "# сперва находим корреляцию к группах и записываем в новую колонку r, затем группируем по дате, оставляя последнее значение группы \n",
    "rdf = rdf.groupby([pd.Grouper(key='date', freq='w')]).apply(lambda b: b.assign(r=corr(b))).groupby([pd.Grouper(key='date', freq='w')]).last()\n",
    "rdf = rdf.loc[(~np.isnan(rdf)).any(axis=1), :].reset_index()\n",
    "x['r'] = rdf['r']\n",
    "x"
   ],
   "metadata": {
    "collapsed": false,
    "pycharm": {
     "name": "#%%\n",
     "is_executing": false
    }
   }
  }
 ],
 "metadata": {
  "kernelspec": {
   "display_name": "Python 3",
   "language": "python",
   "name": "python3"
  },
  "language_info": {
   "codemirror_mode": {
    "name": "ipython",
    "version": 2
   },
   "file_extension": ".py",
   "mimetype": "text/x-python",
   "name": "python",
   "nbconvert_exporter": "python",
   "pygments_lexer": "ipython2",
   "version": "2.7.6"
  },
  "pycharm": {
   "stem_cell": {
    "cell_type": "raw",
    "source": [],
    "metadata": {
     "collapsed": false
    }
   }
  }
 },
 "nbformat": 4,
 "nbformat_minor": 0
}